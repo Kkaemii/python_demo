{
  "nbformat": 4,
  "nbformat_minor": 0,
  "metadata": {
    "colab": {
      "provenance": [],
      "authorship_tag": "ABX9TyMDCI/kGV4Jsv98DHPbHyao",
      "include_colab_link": true
    },
    "kernelspec": {
      "name": "python3",
      "display_name": "Python 3"
    },
    "language_info": {
      "name": "python"
    }
  },
  "cells": [
    {
      "cell_type": "markdown",
      "metadata": {
        "id": "view-in-github",
        "colab_type": "text"
      },
      "source": [
        "<a href=\"https://colab.research.google.com/github/Kkaemii/python_demo/blob/master/100_phython_%EC%9E%90%EB%A3%8C%ED%98%95.ipynb\" target=\"_parent\"><img src=\"https://colab.research.google.com/assets/colab-badge.svg\" alt=\"Open In Colab\"/></a>"
      ]
    },
    {
      "cell_type": "code",
      "source": [
        "# 구글 드라이버 연동\n",
        "from google.colab import drive\n",
        "drive.mount('/content/drive')"
      ],
      "metadata": {
        "colab": {
          "base_uri": "https://localhost:8080/"
        },
        "id": "y5NJ1cOvMFrQ",
        "outputId": "805ed7d5-286a-4ad4-f024-b8d36f6c6823"
      },
      "execution_count": 21,
      "outputs": [
        {
          "output_type": "stream",
          "name": "stdout",
          "text": [
            "Mounted at /content/drive\n"
          ]
        }
      ]
    },
    {
      "cell_type": "code",
      "source": [
        "%cd /content/drive/MyDrive/Ezen_AI_Chat_bot"
      ],
      "metadata": {
        "colab": {
          "base_uri": "https://localhost:8080/"
        },
        "id": "5mKQlrfXMMCB",
        "outputId": "18d456a3-fbfa-42ec-8f1d-68c8cf5f729a"
      },
      "execution_count": 41,
      "outputs": [
        {
          "output_type": "stream",
          "name": "stdout",
          "text": [
            "/content/drive/MyDrive/Ezen_AI_Chat_bot\n"
          ]
        }
      ]
    },
    {
      "cell_type": "markdown",
      "source": [
        "https://www.python.org/\n",
        "https://docs.python.org/3/tutorial/index.html\n",
        "https://peps.python.org/pep-0008/\n",
        "https://wikidocs.net/book/1\n",
        "https://dojang.io/course/view.php?id=7"
      ],
      "metadata": {
        "id": "wqEWL_qz1VkU"
      }
    },
    {
      "cell_type": "code",
      "execution_count": 2,
      "metadata": {
        "colab": {
          "base_uri": "https://localhost:8080/"
        },
        "id": "QQQiJKqT0Jkl",
        "outputId": "2ab9e2af-c9c7-4b6d-9308-a8bb17eac580"
      },
      "outputs": [
        {
          "output_type": "stream",
          "name": "stdout",
          "text": [
            "Python 3.10.12\n"
          ]
        }
      ],
      "source": [
        "#python version확인\n",
        "!python --version"
      ]
    },
    {
      "cell_type": "code",
      "source": [
        "#python에서 추구하는 철학\n",
        "import this"
      ],
      "metadata": {
        "id": "Ge3pSnPT2Eif"
      },
      "execution_count": 4,
      "outputs": []
    },
    {
      "cell_type": "code",
      "source": [
        "import keyword\n",
        "print(keyword.kwlist)\n",
        "print(len(keyword.kwlist))\n",
        "#len숫자로 표현해주는 함수"
      ],
      "metadata": {
        "colab": {
          "base_uri": "https://localhost:8080/"
        },
        "id": "1jLe_Y3N2oyL",
        "outputId": "2137c0fc-96bd-478d-fab4-e6f2d27fe490"
      },
      "execution_count": 10,
      "outputs": [
        {
          "output_type": "stream",
          "name": "stdout",
          "text": [
            "['False', 'None', 'True', 'and', 'as', 'assert', 'async', 'await', 'break', 'class', 'continue', 'def', 'del', 'elif', 'else', 'except', 'finally', 'for', 'from', 'global', 'if', 'import', 'in', 'is', 'lambda', 'nonlocal', 'not', 'or', 'pass', 'raise', 'return', 'try', 'while', 'with', 'yield']\n",
            "35\n"
          ]
        }
      ]
    },
    {
      "cell_type": "code",
      "source": [
        "print('Hello World')\n",
        "print('Hello World')\n",
        "print('Hello World')\n",
        "#값을 출력하고 싶을때 print 함수 사용\n",
        "#여러값을 하려면 값마다 print 함수 사용 / 함수 사용시에는 필요값을 ()감싸서 넣어줘야함\n",
        "#하나의 문장이 끝나면 마지막에 세미콜론(;)을 찍어서 알려줘야함\n",
        "#파이썬에서는 엔터로 줄바꿈을 해주면 문장의 끝을 의미... 다른 언어는 세미콜론찍어줘야함으로 버릇들이자."
      ],
      "metadata": {
        "colab": {
          "base_uri": "https://localhost:8080/"
        },
        "id": "RrP8Gr1D3Jij",
        "outputId": "18a11ad0-9106-4a5f-e74c-bc2f23c1ba06"
      },
      "execution_count": 14,
      "outputs": [
        {
          "output_type": "stream",
          "name": "stdout",
          "text": [
            "Hello World\n",
            "Hello World\n",
            "Hello World\n"
          ]
        }
      ]
    },
    {
      "cell_type": "code",
      "source": [
        "#값을 저장하는 메모리 공간 / 같은 메모리에서 값을 불러오고 싶을때 변수에 값을 저장후 불러와야 함\n",
        "#접근할 수있는 이름 또는 공간으로 이해\n",
        "#데이터 타입을 별도로 저장 하지 않는 유연함 / 동적으로 메모리 저장 타입 결정\n",
        "a=10; b=20;\n",
        "if(a ==10) and (b ==20) :\n",
        "  print('OK')\n",
        "else :\n",
        "  print('NO')"
      ],
      "metadata": {
        "colab": {
          "base_uri": "https://localhost:8080/"
        },
        "id": "8SrUvJNp4eyV",
        "outputId": "79d6803f-49f1-497a-af7c-9670c8c3a40d"
      },
      "execution_count": 24,
      "outputs": [
        {
          "output_type": "stream",
          "name": "stdout",
          "text": [
            "OK\n"
          ]
        }
      ]
    },
    {
      "cell_type": "markdown",
      "source": [
        "## Sequence 자료형\n",
        "\n",
        "- Sequence은 여러 객체를 저장할 수 있는 순서를 갖는 연속된 자료형이다.\n",
        "\n",
        "- 자료형 종류 : str, tuple, list\n",
        "\n",
        "- sequence형의 공통적인 연산\n",
        "\n",
        "  - 인덱싱(indexing)\n",
        "\n",
        "  - 슬라이싱(slicing)\n",
        "\n",
        "  - 연결하기\n",
        "\n",
        "  - 반복하기\n",
        "\n",
        "  - 멤버 검사\n",
        "\n",
        "  - 길이정보"
      ],
      "metadata": {
        "id": "FW2L2cMXayjr"
      }
    },
    {
      "cell_type": "code",
      "source": [
        "start = end = 1\n",
        "print(start)\n",
        "print(end)"
      ],
      "metadata": {
        "colab": {
          "base_uri": "https://localhost:8080/"
        },
        "id": "hdJevNKxNgHm",
        "outputId": "74f55e12-aa07-4cc8-cecd-4e3f9195d8eb"
      },
      "execution_count": 27,
      "outputs": [
        {
          "output_type": "stream",
          "name": "stdout",
          "text": [
            "1\n",
            "1\n"
          ]
        }
      ]
    },
    {
      "cell_type": "code",
      "source": [
        "# + : 문자열 열결의 의미\n",
        "a= '3' + '4'\n",
        "print (a)"
      ],
      "metadata": {
        "colab": {
          "base_uri": "https://localhost:8080/"
        },
        "id": "FBeF0qDqN8cN",
        "outputId": "466ec76d-3772-4484-ef46-2c170ddbf38b"
      },
      "execution_count": 35,
      "outputs": [
        {
          "output_type": "stream",
          "name": "stdout",
          "text": [
            "34\n"
          ]
        }
      ]
    },
    {
      "cell_type": "code",
      "source": [
        "a = 1\n",
        "a = eval('3+4')\n",
        "print(a)\n",
        "\n",
        "a = eval('a+3')\n",
        "print(a)\n",
        "\n",
        "a=eval('3' + '4')\n",
        "print(a)"
      ],
      "metadata": {
        "colab": {
          "base_uri": "https://localhost:8080/"
        },
        "id": "hI29C9YsNoL9",
        "outputId": "d6ff52a9-0fd6-4ece-fcb2-cb6bf4791e6d"
      },
      "execution_count": 39,
      "outputs": [
        {
          "output_type": "stream",
          "name": "stdout",
          "text": [
            "7\n",
            "10\n",
            "34\n"
          ]
        }
      ]
    },
    {
      "cell_type": "markdown",
      "source": [
        "## 자료형\n",
        "\n",
        "1. 데이터 저장방법에 따른 자료형의 분류   \n",
        "  * 직접(direct)형 : 직접 데이터를 표현하는 자료형 : int, float, complex   \n",
        "  * 시퀀스(sequence)형: 다른 데이터를 포함하는 자료형, 순서가 있는 집합 자료형 : list,str, tuple, bytes, bytearray,range\n",
        "  * 매핑(Mapping)형 : 다른 데이터를 포함하는 자료형 : dict (키와 밸류로 이루어짐)\n",
        "  * 집합(Set)형 : 순서가 없고, 중복된 값도 없다. : set, frozenset  \n",
        "\n",
        "\n",
        "2. 변경 가능성에 따른 자료형 분류  \n",
        "   * 변경 가능형(Mutable) : 데이터의 값을 변경할 수 있다.  : list, dict, set  \n",
        "   * 변경 불가능형(Immutable) : 데이터의 값을 변경할 수 없다. : int, float, complex, str, tuple, frozense\n",
        "\n",
        "\n",
        "\n",
        "3. 데이터 저장 개수에 따른 자료형의 분류\n",
        " * 리터널(Literal/Scalar)형 : 한 가지 객체만 저장한다. : int, bytes, str, float, complex\n",
        " * 컨테이널(Container)형 : 여러 가지 객체를 저장한다. : list, tuple, dict, set, fronzenset"
      ],
      "metadata": {
        "id": "f3iBJXcEPHHm"
      }
    },
    {
      "cell_type": "code",
      "source": [
        "def call():\n",
        "  return 2,3,4;"
      ],
      "metadata": {
        "id": "8-PJz2DMRq-E"
      },
      "execution_count": 44,
      "outputs": []
    },
    {
      "cell_type": "code",
      "source": [
        "print(call())\n",
        "print(type(call()))"
      ],
      "metadata": {
        "colab": {
          "base_uri": "https://localhost:8080/"
        },
        "id": "_7fZ-YPXRrUs",
        "outputId": "3238fbfb-ffba-46cb-fd26-0aebb0395bb5"
      },
      "execution_count": 48,
      "outputs": [
        {
          "output_type": "stream",
          "name": "stdout",
          "text": [
            "(2, 3, 4)\n",
            "<class 'tuple'>\n"
          ]
        }
      ]
    },
    {
      "cell_type": "code",
      "source": [
        "#집합\n",
        "type({1,2,3})"
      ],
      "metadata": {
        "colab": {
          "base_uri": "https://localhost:8080/"
        },
        "id": "ObkV5UQlSbJN",
        "outputId": "c9a2eaf4-36ce-46e4-bddd-9c9a4e222971"
      },
      "execution_count": 47,
      "outputs": [
        {
          "output_type": "execute_result",
          "data": {
            "text/plain": [
              "set"
            ]
          },
          "metadata": {},
          "execution_count": 47
        }
      ]
    },
    {
      "cell_type": "code",
      "source": [
        "#각 값은 고유값으로 하나씩만 할당 / 겹치면 뒤에값만 출력됨으로 주의\n",
        "#set과 dict 중괄호를 사용하는것은 동일\n",
        "type({a:3, b:4})"
      ],
      "metadata": {
        "colab": {
          "base_uri": "https://localhost:8080/"
        },
        "id": "QvlI7yieSoLt",
        "outputId": "cc42e9d4-c9b0-4b29-caf6-42421b852285"
      },
      "execution_count": 49,
      "outputs": [
        {
          "output_type": "execute_result",
          "data": {
            "text/plain": [
              "dict"
            ]
          },
          "metadata": {},
          "execution_count": 49
        }
      ]
    },
    {
      "cell_type": "code",
      "source": [
        "type('python')"
      ],
      "metadata": {
        "colab": {
          "base_uri": "https://localhost:8080/"
        },
        "id": "osIe0SCDS49d",
        "outputId": "e80b7cde-2d21-4bba-a6d0-ae68a4e7d1b3"
      },
      "execution_count": 50,
      "outputs": [
        {
          "output_type": "execute_result",
          "data": {
            "text/plain": [
              "str"
            ]
          },
          "metadata": {},
          "execution_count": 50
        }
      ]
    },
    {
      "cell_type": "markdown",
      "source": [
        "dir(): 자료형의 내장함수를 검색할 수 있다."
      ],
      "metadata": {
        "id": "dphYZRtlThdH"
      }
    },
    {
      "cell_type": "code",
      "source": [
        "#앞에 print 붙이면 가로로 출력\n",
        "print(dir(str))\n",
        "#dir(str)"
      ],
      "metadata": {
        "colab": {
          "base_uri": "https://localhost:8080/"
        },
        "id": "sq0PAl-dTode",
        "outputId": "807207df-99b3-4364-84da-be35e21a2a5b"
      },
      "execution_count": 57,
      "outputs": [
        {
          "output_type": "stream",
          "name": "stdout",
          "text": [
            "['__add__', '__class__', '__contains__', '__delattr__', '__dir__', '__doc__', '__eq__', '__format__', '__ge__', '__getattribute__', '__getitem__', '__getnewargs__', '__gt__', '__hash__', '__init__', '__init_subclass__', '__iter__', '__le__', '__len__', '__lt__', '__mod__', '__mul__', '__ne__', '__new__', '__reduce__', '__reduce_ex__', '__repr__', '__rmod__', '__rmul__', '__setattr__', '__sizeof__', '__str__', '__subclasshook__', 'capitalize', 'casefold', 'center', 'count', 'encode', 'endswith', 'expandtabs', 'find', 'format', 'format_map', 'index', 'isalnum', 'isalpha', 'isascii', 'isdecimal', 'isdigit', 'isidentifier', 'islower', 'isnumeric', 'isprintable', 'isspace', 'istitle', 'isupper', 'join', 'ljust', 'lower', 'lstrip', 'maketrans', 'partition', 'removeprefix', 'removesuffix', 'replace', 'rfind', 'rindex', 'rjust', 'rpartition', 'rsplit', 'rstrip', 'split', 'splitlines', 'startswith', 'strip', 'swapcase', 'title', 'translate', 'upper', 'zfill']\n"
          ]
        }
      ]
    },
    {
      "cell_type": "code",
      "source": [
        "print(dir(list))"
      ],
      "metadata": {
        "colab": {
          "base_uri": "https://localhost:8080/"
        },
        "id": "ySK8zDWOTwAk",
        "outputId": "502128e5-d2a7-4d38-88f4-644cfd1a7d27"
      },
      "execution_count": 56,
      "outputs": [
        {
          "output_type": "stream",
          "name": "stdout",
          "text": [
            "['__add__', '__class__', '__class_getitem__', '__contains__', '__delattr__', '__delitem__', '__dir__', '__doc__', '__eq__', '__format__', '__ge__', '__getattribute__', '__getitem__', '__gt__', '__hash__', '__iadd__', '__imul__', '__init__', '__init_subclass__', '__iter__', '__le__', '__len__', '__lt__', '__mul__', '__ne__', '__new__', '__reduce__', '__reduce_ex__', '__repr__', '__reversed__', '__rmul__', '__setattr__', '__setitem__', '__sizeof__', '__str__', '__subclasshook__', 'append', 'clear', 'copy', 'count', 'extend', 'index', 'insert', 'pop', 'remove', 'reverse', 'sort']\n"
          ]
        }
      ]
    },
    {
      "cell_type": "code",
      "source": [
        "a= [1,2,3]\n",
        "print(a.__dir__())"
      ],
      "metadata": {
        "colab": {
          "base_uri": "https://localhost:8080/"
        },
        "id": "neL0zGrEUl30",
        "outputId": "9fc38adc-913b-45d0-c25d-bf57cd39c894"
      },
      "execution_count": 60,
      "outputs": [
        {
          "output_type": "stream",
          "name": "stdout",
          "text": [
            "['__new__', '__repr__', '__hash__', '__getattribute__', '__lt__', '__le__', '__eq__', '__ne__', '__gt__', '__ge__', '__iter__', '__init__', '__len__', '__getitem__', '__setitem__', '__delitem__', '__add__', '__mul__', '__rmul__', '__contains__', '__iadd__', '__imul__', '__reversed__', '__sizeof__', 'clear', 'copy', 'append', 'insert', 'extend', 'pop', 'remove', 'index', 'count', 'reverse', 'sort', '__class_getitem__', '__doc__', '__str__', '__setattr__', '__delattr__', '__reduce_ex__', '__reduce__', '__subclasshook__', '__init_subclass__', '__format__', '__dir__', '__class__']\n"
          ]
        }
      ]
    },
    {
      "cell_type": "markdown",
      "source": [
        "###Help() : 자료형에서 제공하는 메소드(함수) 사용법을 검색할 수 있다."
      ],
      "metadata": {
        "id": "rdrs77dJVHjM"
      }
    },
    {
      "cell_type": "code",
      "source": [
        "#help(str)\n",
        "help(str.index) #대괄호 안에 들어가는 start,end는 생략가능 / 중복되는 인덱스 값은 왼쪽에서 부터 오른쪽으로 읽으며, 가장 먼저 만나는 값을 반환한다.\n",
        "#인덱스는 0부터 시작한다. 0.1.2.3.4...."
      ],
      "metadata": {
        "colab": {
          "base_uri": "https://localhost:8080/"
        },
        "id": "hBPIo5KiVTSv",
        "outputId": "0fa7a67d-4a31-4363-d3f5-4f0269225fa6"
      },
      "execution_count": 65,
      "outputs": [
        {
          "output_type": "stream",
          "name": "stdout",
          "text": [
            "Help on method_descriptor:\n",
            "\n",
            "index(...)\n",
            "    S.index(sub[, start[, end]]) -> int\n",
            "    \n",
            "    Return the lowest index in S where substring sub is found,\n",
            "    such that sub is contained within S[start:end].  Optional\n",
            "    arguments start and end are interpreted as in slice notation.\n",
            "    \n",
            "    Raises ValueError when the substring is not found.\n",
            "\n"
          ]
        }
      ]
    },
    {
      "cell_type": "code",
      "source": [
        "'hello'.index('l')"
      ],
      "metadata": {
        "colab": {
          "base_uri": "https://localhost:8080/"
        },
        "id": "QDabaHheWOn_",
        "outputId": "e8bf02ee-ee1e-488b-d07d-d392fd8c153f"
      },
      "execution_count": 66,
      "outputs": [
        {
          "output_type": "execute_result",
          "data": {
            "text/plain": [
              "2"
            ]
          },
          "metadata": {},
          "execution_count": 66
        }
      ]
    },
    {
      "cell_type": "markdown",
      "source": [
        "#문자열(str)\n",
        "\n",
        "\n",
        "\n",
        "문자열은 문자들을 표현하는 자료형으로 작은따옴표(')나 큰따옴표(\")로 묶는다.\n",
        "\n",
        "문자열의 슬라이싱 : [인덱스 시작 : 인덱스 끝 : 스텝]\n",
        "\n",
        "스텝의 default은 1의 값을 갖는다."
      ],
      "metadata": {
        "id": "OTu6tMc1a1g7"
      }
    },
    {
      "cell_type": "code",
      "source": [
        "a = 'Life is too short. you need python'\n",
        "print(a)\n",
        "\n",
        "a = \"Life is too short. you need python\"\n",
        "print=(a)"
      ],
      "metadata": {
        "colab": {
          "base_uri": "https://localhost:8080/"
        },
        "id": "HpMNRHk8a789",
        "outputId": "ad5fdaf0-9ae5-429d-ee2f-0dd538ced2fe"
      },
      "execution_count": 68,
      "outputs": [
        {
          "output_type": "stream",
          "name": "stdout",
          "text": [
            "Life is too short. you need python\n"
          ]
        }
      ]
    },
    {
      "cell_type": "code",
      "source": [
        "a = \"Python's favorite food is pearl\"\n",
        "print(a)\n",
        "print(id(a))\n",
        "\n",
        "a = '\"Python is very easy.\" he syas'\n",
        "print(a)\n",
        "print(id(a))\n",
        "\n",
        "a = 'Python\\'s favorite food is pearl'\n",
        "print(a)\n",
        "\n",
        "a = '\\\"Python is very easy.\\\" he syas'\n",
        "print(a)"
      ],
      "metadata": {
        "colab": {
          "base_uri": "https://localhost:8080/"
        },
        "id": "VgM-BtZ-bMFu",
        "outputId": "b497cb00-e1ab-4266-a0cc-bf9ad73634e7"
      },
      "execution_count": 92,
      "outputs": [
        {
          "output_type": "stream",
          "name": "stdout",
          "text": [
            "Python's favorite food is pearl\n",
            "135889903179840\n",
            "\"Python is very easy.\" he syas\n",
            "135889903184960\n",
            "Python's favorite food is pearl\n",
            "\"Python is very easy.\" \u0007 he syas\n"
          ]
        }
      ]
    },
    {
      "cell_type": "code",
      "source": [
        "b = \"\"\"\n",
        "    Life is too short\n",
        "    you need python.\n",
        "    \"\"\"\n",
        "\n",
        "print(b)"
      ],
      "metadata": {
        "colab": {
          "base_uri": "https://localhost:8080/"
        },
        "id": "_ulNm5xaeGSX",
        "outputId": "27a2bcca-e3cd-4706-889d-d7ef86719953"
      },
      "execution_count": 97,
      "outputs": [
        {
          "output_type": "stream",
          "name": "stdout",
          "text": [
            "\n",
            "    Life is too short\n",
            "    you need python.\n",
            "    \n"
          ]
        }
      ]
    },
    {
      "cell_type": "code",
      "source": [
        "a = 'Life is too short'\n",
        "len(a)\n",
        "#len > 문자열 길이(숫자)를 알아야 할 때 사용"
      ],
      "metadata": {
        "colab": {
          "base_uri": "https://localhost:8080/"
        },
        "id": "cX3ALFlzeKIB",
        "outputId": "26d96ff7-8e76-4b8e-8377-7e1a76927ea7"
      },
      "execution_count": 98,
      "outputs": [
        {
          "output_type": "execute_result",
          "data": {
            "text/plain": [
              "17"
            ]
          },
          "metadata": {},
          "execution_count": 98
        }
      ]
    },
    {
      "cell_type": "code",
      "source": [
        "s_val = 'hello phython!'\n",
        "print(s_val)"
      ],
      "metadata": {
        "colab": {
          "base_uri": "https://localhost:8080/"
        },
        "id": "1hFlnui8ek0b",
        "outputId": "ea22dbde-384c-4303-8285-3b97268a009a"
      },
      "execution_count": 115,
      "outputs": [
        {
          "output_type": "stream",
          "name": "stdout",
          "text": [
            "hello phython!\n"
          ]
        }
      ]
    },
    {
      "cell_type": "code",
      "source": [
        "s_val[1]\n",
        "#대괄호 안에 숫자(순서)를 넣으면 index 순서 확인 / 숫자는 0부터 시작 명심\n",
        "#indexing 은 하나의 숫자만 사용"
      ],
      "metadata": {
        "colab": {
          "base_uri": "https://localhost:8080/",
          "height": 35
        },
        "id": "r5WfyZP9eshD",
        "outputId": "c4133efd-3cdd-4d1e-8d1d-8306922fc377"
      },
      "execution_count": 116,
      "outputs": [
        {
          "output_type": "execute_result",
          "data": {
            "text/plain": [
              "'e'"
            ],
            "application/vnd.google.colaboratory.intrinsic+json": {
              "type": "string"
            }
          },
          "metadata": {},
          "execution_count": 116
        }
      ]
    },
    {
      "cell_type": "code",
      "source": [
        "#slicing (슬라이싱)\n",
        "s_val[0:3]\n",
        "#start:end:step(생략가능)]\n",
        "#위 예시로는 0이상 3미만 / index를 나타낼때 끝나는 수는 미만으로 활용(포함x)"
      ],
      "metadata": {
        "colab": {
          "base_uri": "https://localhost:8080/",
          "height": 35
        },
        "id": "mj3v0JBfe-7O",
        "outputId": "3d39aae5-82dd-446a-8932-f78c97691ed9"
      },
      "execution_count": 117,
      "outputs": [
        {
          "output_type": "execute_result",
          "data": {
            "text/plain": [
              "'hel'"
            ],
            "application/vnd.google.colaboratory.intrinsic+json": {
              "type": "string"
            }
          },
          "metadata": {},
          "execution_count": 117
        }
      ]
    },
    {
      "cell_type": "code",
      "source": [
        "s_val[1:2] #1이상 2미만"
      ],
      "metadata": {
        "colab": {
          "base_uri": "https://localhost:8080/",
          "height": 35
        },
        "id": "-TTYe9y3gFSn",
        "outputId": "de474665-6f83-4784-fff2-b2f834df9f3d"
      },
      "execution_count": 110,
      "outputs": [
        {
          "output_type": "execute_result",
          "data": {
            "text/plain": [
              "'e'"
            ],
            "application/vnd.google.colaboratory.intrinsic+json": {
              "type": "string"
            }
          },
          "metadata": {},
          "execution_count": 110
        }
      ]
    },
    {
      "cell_type": "code",
      "source": [
        "s_val[1:] #슬라이싱 중 end를 명시하지않으면 끝까지 진행"
      ],
      "metadata": {
        "colab": {
          "base_uri": "https://localhost:8080/",
          "height": 35
        },
        "id": "OOe1tuVhgaRe",
        "outputId": "2390d5d9-b94b-475c-8628-fab7dbbcf65f"
      },
      "execution_count": 118,
      "outputs": [
        {
          "output_type": "execute_result",
          "data": {
            "text/plain": [
              "'ello phython!'"
            ],
            "application/vnd.google.colaboratory.intrinsic+json": {
              "type": "string"
            }
          },
          "metadata": {},
          "execution_count": 118
        }
      ]
    },
    {
      "cell_type": "code",
      "source": [
        "#변수의 모든 데이터를 가지고오게 하고싶을때\n",
        "#슬라이싱은 가운데 :만 들어가면 됨\n",
        "print(s_val[0:])\n",
        "print(s_val[:])"
      ],
      "metadata": {
        "colab": {
          "base_uri": "https://localhost:8080/"
        },
        "id": "nVqXzPtYgpvD",
        "outputId": "e6128a75-72fb-4a24-c5ef-53023e81a858"
      },
      "execution_count": 119,
      "outputs": [
        {
          "output_type": "stream",
          "name": "stdout",
          "text": [
            "hello phython!\n",
            "hello phython!\n"
          ]
        }
      ]
    },
    {
      "cell_type": "code",
      "source": [
        "print(s_val[-1])\n",
        "print(s_val[::2])"
      ],
      "metadata": {
        "colab": {
          "base_uri": "https://localhost:8080/"
        },
        "id": "gfDrD9VuhBTq",
        "outputId": "c38f1aca-e668-4271-9799-2c475e026abf"
      },
      "execution_count": 124,
      "outputs": [
        {
          "output_type": "stream",
          "name": "stdout",
          "text": [
            "!\n",
            "hlopyhn\n"
          ]
        }
      ]
    },
    {
      "cell_type": "code",
      "source": [
        "s_val[13::-1]\n",
        "#조건에서 0이하로는 데이터를 읽지 못함 . 데이ㅓ 리버스 !하면 뒤로 보임 /"
      ],
      "metadata": {
        "colab": {
          "base_uri": "https://localhost:8080/",
          "height": 35
        },
        "id": "w1KTTTxfiW1o",
        "outputId": "d5b179b6-9a09-4749-a4fe-4965d1727dbc"
      },
      "execution_count": 125,
      "outputs": [
        {
          "output_type": "execute_result",
          "data": {
            "text/plain": [
              "'!nohtyhp olleh'"
            ],
            "application/vnd.google.colaboratory.intrinsic+json": {
              "type": "string"
            }
          },
          "metadata": {},
          "execution_count": 125
        }
      ]
    },
    {
      "cell_type": "code",
      "source": [],
      "metadata": {
        "id": "CF4hCQZki307"
      },
      "execution_count": null,
      "outputs": []
    },
    {
      "cell_type": "markdown",
      "source": [
        "#문자열의 연결하기는 (+_ 연산자를 사용"
      ],
      "metadata": {
        "id": "l2ityK7Vi-Ch"
      }
    },
    {
      "cell_type": "code",
      "source": [
        "s_val2 ='hlello;+'  ''"
      ],
      "metadata": {
        "id": "NIE5ZBVXizi_"
      },
      "execution_count": null,
      "outputs": []
    },
    {
      "cell_type": "markdown",
      "source": [
        "##문자열 반복하기는 (*)연산자를 사용"
      ],
      "metadata": {
        "id": "g8_5P1xmqmLX"
      }
    },
    {
      "cell_type": "code",
      "source": [
        "s_val ='win' *3\n",
        "s_val"
      ],
      "metadata": {
        "colab": {
          "base_uri": "https://localhost:8080/",
          "height": 35
        },
        "id": "kxei0NcdqqBy",
        "outputId": "ec923cd1-80b1-4392-b0d2-e2b42992bab6"
      },
      "execution_count": 130,
      "outputs": [
        {
          "output_type": "execute_result",
          "data": {
            "text/plain": [
              "'winwinwin'"
            ],
            "application/vnd.google.colaboratory.intrinsic+json": {
              "type": "string"
            }
          },
          "metadata": {},
          "execution_count": 130
        }
      ]
    },
    {
      "cell_type": "code",
      "source": [
        "#문자열 끼리 곱하면 에러 / 문자열 * int(숫자열) 조합으로만 가능\n",
        "s_val ='wim' * 'win'\n",
        "s_val"
      ],
      "metadata": {
        "id": "933HxWWlq-oq"
      },
      "execution_count": null,
      "outputs": []
    },
    {
      "cell_type": "markdown",
      "source": [
        "##문자열을 변경할 때 슬라이싱과 열결하기 사용"
      ],
      "metadata": {
        "id": "xKnfHYb_rdxQ"
      }
    },
    {
      "cell_type": "code",
      "source": [
        "s_val = 'hello python1'\n",
        "s_val"
      ],
      "metadata": {
        "colab": {
          "base_uri": "https://localhost:8080/",
          "height": 35
        },
        "id": "0BOBMJjVrE2F",
        "outputId": "8b11ebe0-3fe9-43c8-f460-881fb6230516"
      },
      "execution_count": 134,
      "outputs": [
        {
          "output_type": "execute_result",
          "data": {
            "text/plain": [
              "'hello python1'"
            ],
            "application/vnd.google.colaboratory.intrinsic+json": {
              "type": "string"
            }
          },
          "metadata": {},
          "execution_count": 134
        }
      ]
    },
    {
      "cell_type": "code",
      "source": [
        "s_check = 'H' + s_val[1:]\n",
        "s_check"
      ],
      "metadata": {
        "colab": {
          "base_uri": "https://localhost:8080/",
          "height": 35
        },
        "id": "hJdgmoq1rza8",
        "outputId": "b92f2c26-adf0-41be-965e-ca153047962b"
      },
      "execution_count": 135,
      "outputs": [
        {
          "output_type": "execute_result",
          "data": {
            "text/plain": [
              "'Hello python1'"
            ],
            "application/vnd.google.colaboratory.intrinsic+json": {
              "type": "string"
            }
          },
          "metadata": {},
          "execution_count": 135
        }
      ]
    },
    {
      "cell_type": "markdown",
      "source": [
        "##in연산자로 멤버 검사를 해서 부분 문자열의 존재 확인"
      ],
      "metadata": {
        "id": "WEOa5JO7sIa_"
      }
    },
    {
      "cell_type": "code",
      "source": [
        "s_val = 'red green blue'\n",
        "s_val"
      ],
      "metadata": {
        "colab": {
          "base_uri": "https://localhost:8080/",
          "height": 35
        },
        "id": "Ev1IUPE6sMZ0",
        "outputId": "1e8b6560-4424-4102-8ec2-4f56bf57b529"
      },
      "execution_count": 138,
      "outputs": [
        {
          "output_type": "execute_result",
          "data": {
            "text/plain": [
              "'red green blue'"
            ],
            "application/vnd.google.colaboratory.intrinsic+json": {
              "type": "string"
            }
          },
          "metadata": {},
          "execution_count": 138
        }
      ]
    },
    {
      "cell_type": "code",
      "source": [
        "#s_val 변수에 'green' 문자열이 있는지 물어보는 것 / 있으면 true 없으면 false\n",
        "'green' in s_val"
      ],
      "metadata": {
        "colab": {
          "base_uri": "https://localhost:8080/"
        },
        "id": "HT8BUnMmseYs",
        "outputId": "29cfce1b-aebd-4bc5-c952-4daa608e8346"
      },
      "execution_count": 139,
      "outputs": [
        {
          "output_type": "execute_result",
          "data": {
            "text/plain": [
              "True"
            ]
          },
          "metadata": {},
          "execution_count": 139
        }
      ]
    },
    {
      "cell_type": "code",
      "source": [
        "'white' in s_val"
      ],
      "metadata": {
        "colab": {
          "base_uri": "https://localhost:8080/"
        },
        "id": "dgCJydeAsrkA",
        "outputId": "bee66d6f-382b-487f-87f1-7ae772908312"
      },
      "execution_count": 140,
      "outputs": [
        {
          "output_type": "execute_result",
          "data": {
            "text/plain": [
              "False"
            ]
          },
          "metadata": {},
          "execution_count": 140
        }
      ]
    },
    {
      "cell_type": "code",
      "source": [
        "\"{0:=^10}\".format(\"hi\")\n",
        "\n",
        "#\"{0:!<10}\".format(\"hi\")\n"
      ],
      "metadata": {
        "colab": {
          "base_uri": "https://localhost:8080/",
          "height": 35
        },
        "id": "CnB_hXBmwHnv",
        "outputId": "71cb57ad-32d1-4109-d364-780ebe43b697"
      },
      "execution_count": 142,
      "outputs": [
        {
          "output_type": "execute_result",
          "data": {
            "text/plain": [
              "'====hi===='"
            ],
            "application/vnd.google.colaboratory.intrinsic+json": {
              "type": "string"
            }
          },
          "metadata": {},
          "execution_count": 142
        }
      ]
    },
    {
      "cell_type": "code",
      "source": [
        "s_val7 = 'python'\n",
        "\n",
        "s_val8 = 83.5\n",
        "\n",
        "\n",
        "\n",
        "print('%s 의 점수는 %.1f입니다.' % ( s_val7, s_val8)) # python1, 2방식\n",
        "\n",
        "print('{} 의 점수는 {}입니다.'.format(s_val7, s_val8)) # python3 방식\n",
        "\n",
        "print('{1} 의 점수는 {0}입니다.'.format(s_val8, s_val7))\n",
        "\n",
        "print('{subject} 의 점수는 {jumsu}입니다.'.format(jumsu=s_val8, subject=s_val7))\n",
        "\n",
        "print('{{0}} 의 점수는 {{1}}입니다.'.format(s_val7, s_val8)) # { }자체를 출력할때 {{}}을 한다.\n",
        "\n",
        "print('{{{0}}} 의 점수는 {{{1}}}입니다.'.format(s_val7, s_val8)) # {}자체와 값을 출력할때는 {{{}}}을 한다.\n",
        "\n",
        "\n",
        "\n",
        "print('{0:<10} 의 점수는 {1}입니다.'.format(s_val7, s_val8))  # 10자리 확보하고 남은 공간은 오른쪽을 여백으로 채운다.\n",
        "\n",
        "#print('{:<10} 의 점수는 {}입니다.'.format(s_val7, s_val8))\n",
        "\n",
        "\n",
        "\n",
        "print('{0:>10} 의 점수는 {1}입니다.'.format(s_val7, s_val8))  # 10자리 확보하고 남은 공간은 왼쪽을 여백으로 채운다.\n",
        "\n",
        "#print('{:>10} 의 점수는 {}입니다.'.format(s_val7, s_val8))"
      ],
      "metadata": {
        "colab": {
          "base_uri": "https://localhost:8080/"
        },
        "id": "n92ZJjVVwwHZ",
        "outputId": "b9d0d997-25eb-4628-e1a9-7ac0ce379edb"
      },
      "execution_count": 143,
      "outputs": [
        {
          "output_type": "stream",
          "name": "stdout",
          "text": [
            "python 의 점수는 83.5입니다.\n",
            "python 의 점수는 83.5입니다.\n",
            "python 의 점수는 83.5입니다.\n",
            "python 의 점수는 83.5입니다.\n",
            "{0} 의 점수는 {1}입니다.\n",
            "{python} 의 점수는 {83.5}입니다.\n",
            "python     의 점수는 83.5입니다.\n",
            "    python 의 점수는 83.5입니다.\n"
          ]
        }
      ]
    },
    {
      "cell_type": "markdown",
      "source": [
        "##문자열에서 제공하는 메소드(함수값)"
      ],
      "metadata": {
        "id": "tpslxcmf07ak"
      }
    },
    {
      "cell_type": "code",
      "source": [
        "#a.count('원하는 문자열') > 문자열 중 원하는 문자열의 개수를 숫자로 리턴\n",
        "#len() > 모든 문자열의 개수\n",
        "a ='hobby'\n",
        "a.count('b')"
      ],
      "metadata": {
        "colab": {
          "base_uri": "https://localhost:8080/"
        },
        "id": "nCPvyLwi0_qw",
        "outputId": "9d820c3e-a6f1-4b5d-9381-f1b343607bb9"
      },
      "execution_count": 149,
      "outputs": [
        {
          "output_type": "execute_result",
          "data": {
            "text/plain": [
              "2"
            ]
          },
          "metadata": {},
          "execution_count": 149
        }
      ]
    },
    {
      "cell_type": "code",
      "source": [
        "#'b'의 인덱스 리턴\n",
        "print(a.find('b'))\n",
        "print(a.index('b'))"
      ],
      "metadata": {
        "colab": {
          "base_uri": "https://localhost:8080/"
        },
        "id": "m8gP5l0X19uq",
        "outputId": "40dd491b-10ae-4a14-b54a-ff4ee46bc5e7"
      },
      "execution_count": 152,
      "outputs": [
        {
          "output_type": "stream",
          "name": "stdout",
          "text": [
            "2\n",
            "2\n"
          ]
        }
      ]
    },
    {
      "cell_type": "code",
      "source": [
        "#find는 찾는 문자열이 없으면 -1 리턴\n",
        "#index는 찾는 문자열이 없으면 에러 메세지 리턴\n",
        "print(a.find('c'))\n",
        "print(a.index('c'))"
      ],
      "metadata": {
        "colab": {
          "base_uri": "https://localhost:8080/",
          "height": 238
        },
        "id": "1S3JsxI_2PFL",
        "outputId": "f04029cb-9bbe-4676-b090-57af022542e8"
      },
      "execution_count": 156,
      "outputs": [
        {
          "output_type": "stream",
          "name": "stdout",
          "text": [
            "-1\n"
          ]
        },
        {
          "output_type": "error",
          "ename": "ValueError",
          "evalue": "ignored",
          "traceback": [
            "\u001b[0;31m---------------------------------------------------------------------------\u001b[0m",
            "\u001b[0;31mValueError\u001b[0m                                Traceback (most recent call last)",
            "\u001b[0;32m<ipython-input-156-5337db953888>\u001b[0m in \u001b[0;36m<cell line: 4>\u001b[0;34m()\u001b[0m\n\u001b[1;32m      2\u001b[0m \u001b[0;31m#index는 찾는 문자열이 없으면 에러 메세지 리턴\u001b[0m\u001b[0;34m\u001b[0m\u001b[0;34m\u001b[0m\u001b[0m\n\u001b[1;32m      3\u001b[0m \u001b[0mprint\u001b[0m\u001b[0;34m(\u001b[0m\u001b[0ma\u001b[0m\u001b[0;34m.\u001b[0m\u001b[0mfind\u001b[0m\u001b[0;34m(\u001b[0m\u001b[0;34m'c'\u001b[0m\u001b[0;34m)\u001b[0m\u001b[0;34m)\u001b[0m\u001b[0;34m\u001b[0m\u001b[0;34m\u001b[0m\u001b[0m\n\u001b[0;32m----> 4\u001b[0;31m \u001b[0mprint\u001b[0m\u001b[0;34m(\u001b[0m\u001b[0ma\u001b[0m\u001b[0;34m.\u001b[0m\u001b[0mindex\u001b[0m\u001b[0;34m(\u001b[0m\u001b[0;34m'c'\u001b[0m\u001b[0;34m)\u001b[0m\u001b[0;34m)\u001b[0m\u001b[0;34m\u001b[0m\u001b[0;34m\u001b[0m\u001b[0m\n\u001b[0m",
            "\u001b[0;31mValueError\u001b[0m: substring not found"
          ]
        }
      ]
    },
    {
      "cell_type": "code",
      "source": [
        "#앞의 문자열이 뒷 문자열의 사이에 배치 .join\n",
        "'*'.join('apple')"
      ],
      "metadata": {
        "colab": {
          "base_uri": "https://localhost:8080/",
          "height": 35
        },
        "id": "PvzTUq6w3UBH",
        "outputId": "b8a79067-b9da-47d7-8ae2-6daa86a30986"
      },
      "execution_count": 161,
      "outputs": [
        {
          "output_type": "execute_result",
          "data": {
            "text/plain": [
              "'a,p,p,l,e'"
            ],
            "application/vnd.google.colaboratory.intrinsic+json": {
              "type": "string"
            }
          },
          "metadata": {},
          "execution_count": 161
        }
      ]
    },
    {
      "cell_type": "code",
      "source": [
        "'*' .join(['red','green','blue'])"
      ],
      "metadata": {
        "colab": {
          "base_uri": "https://localhost:8080/",
          "height": 35
        },
        "id": "Z7U8DYcA4Bf_",
        "outputId": "64ff31f2-b61a-470e-9a4b-fb7043befca7"
      },
      "execution_count": 162,
      "outputs": [
        {
          "output_type": "execute_result",
          "data": {
            "text/plain": [
              "'red*green*blue'"
            ],
            "application/vnd.google.colaboratory.intrinsic+json": {
              "type": "string"
            }
          },
          "metadata": {},
          "execution_count": 162
        }
      ]
    },
    {
      "cell_type": "code",
      "source": [
        "#대문자로 변경 .upper()\n",
        "a ='hello'\n",
        "a.upper()"
      ],
      "metadata": {
        "colab": {
          "base_uri": "https://localhost:8080/",
          "height": 35
        },
        "id": "b-889JS14Vaw",
        "outputId": "2b9e24e7-8827-40ed-b397-c6e6bffcb964"
      },
      "execution_count": 163,
      "outputs": [
        {
          "output_type": "execute_result",
          "data": {
            "text/plain": [
              "'HELLO'"
            ],
            "application/vnd.google.colaboratory.intrinsic+json": {
              "type": "string"
            }
          },
          "metadata": {},
          "execution_count": 163
        }
      ]
    },
    {
      "cell_type": "code",
      "source": [
        "#소문자로 변경 .lower()\n",
        "a ='HELLO'\n",
        "a.lower()"
      ],
      "metadata": {
        "colab": {
          "base_uri": "https://localhost:8080/",
          "height": 35
        },
        "id": "zpVv8awP4euf",
        "outputId": "447cc9d6-ced2-4417-ee5a-fc6a1b6b98b0"
      },
      "execution_count": 165,
      "outputs": [
        {
          "output_type": "execute_result",
          "data": {
            "text/plain": [
              "'hello'"
            ],
            "application/vnd.google.colaboratory.intrinsic+json": {
              "type": "string"
            }
          },
          "metadata": {},
          "execution_count": 165
        }
      ]
    },
    {
      "cell_type": "code",
      "source": [
        "a = '         hello  world  '\n",
        "print(len(a))\n",
        "print(a)\n",
        "b =a.lstrip()\n",
        "print(len(b))\n",
        "print(b)"
      ],
      "metadata": {
        "colab": {
          "base_uri": "https://localhost:8080/"
        },
        "id": "YMKDIha74uSh",
        "outputId": "1e86bb7f-9bf6-42ea-b730-0eecbc285518"
      },
      "execution_count": 172,
      "outputs": [
        {
          "output_type": "stream",
          "name": "stdout",
          "text": [
            "23\n",
            "         hello  world  \n",
            "14\n",
            "hello  world  \n",
            "21\n",
            "         hello  world\n"
          ]
        }
      ]
    },
    {
      "cell_type": "code",
      "source": [
        "#rstrip / lstrip  오른쪽/왼쪽 여백 제거\n",
        "#strip 양쪽 여백 제거\n",
        "b =a.rstrip()\n",
        "print(len(b))\n",
        "print(b)\n",
        "\n",
        "c =a.strip()\n",
        "print(len(c))\n",
        "print(c)"
      ],
      "metadata": {
        "colab": {
          "base_uri": "https://localhost:8080/"
        },
        "id": "cWiqURRO5hRL",
        "outputId": "3d3605b6-2ee8-42a9-ab15-eaad2266d1de"
      },
      "execution_count": 176,
      "outputs": [
        {
          "output_type": "stream",
          "name": "stdout",
          "text": [
            "21\n",
            "         hello  world\n",
            "12\n",
            "hello  world\n"
          ]
        }
      ]
    },
    {
      "cell_type": "code",
      "source": [
        "#.replace('변경전','변경후')\n",
        "a ='Hello Python'\n",
        "print(a.replace('Python','파이썬'))"
      ],
      "metadata": {
        "colab": {
          "base_uri": "https://localhost:8080/"
        },
        "id": "iCYr_7Rl6DST",
        "outputId": "d333f529-8dbe-41c5-f2e6-078f573a8586"
      },
      "execution_count": 183,
      "outputs": [
        {
          "output_type": "stream",
          "name": "stdout",
          "text": [
            "Hello 파이썬\n"
          ]
        }
      ]
    },
    {
      "cell_type": "code",
      "source": [
        "#split에 들어있는 문자열 기준으로 나눠짐, 만약 값이없다면 빈칸으로 출력\n",
        "a ='Red Green Blue'\n",
        "print(a.split())\n",
        "\n",
        "a ='Red*Green*Blue'\n",
        "print(a.split('*'))\n",
        "\n",
        "a ='Red**Green*Blue'\n",
        "print(a.split('*'))"
      ],
      "metadata": {
        "colab": {
          "base_uri": "https://localhost:8080/"
        },
        "id": "Hx2k2r6C6_Zs",
        "outputId": "6a1d94dd-eff1-4a30-e03c-2445101bd76d"
      },
      "execution_count": 187,
      "outputs": [
        {
          "output_type": "stream",
          "name": "stdout",
          "text": [
            "['Red', 'Green', 'Blue']\n",
            "['Red', 'Green', 'Blue']\n",
            "['Red', '', 'Green', 'Blue']\n"
          ]
        }
      ]
    },
    {
      "cell_type": "markdown",
      "source": [
        "문제1)\n",
        "\n",
        "S='Somewhere on the rainbow'를 'Somewhere over the rainbow'로 변환하세요."
      ],
      "metadata": {
        "id": "OXGKZ0dg72c7"
      }
    },
    {
      "cell_type": "code",
      "source": [
        "s ='somewhere on the rainbow'\n",
        "print(s.replace('on','over'))"
      ],
      "metadata": {
        "colab": {
          "base_uri": "https://localhost:8080/"
        },
        "id": "OJSfi3rD77V1",
        "outputId": "9e0863e7-53dc-4f77-aedb-d6615b7f8aa4"
      },
      "execution_count": 191,
      "outputs": [
        {
          "output_type": "stream",
          "name": "stdout",
          "text": [
            "somewhere over the rainbow\n"
          ]
        }
      ]
    },
    {
      "cell_type": "markdown",
      "source": [
        "문제2)\n",
        "\n",
        "s = '/usr/local/bin/python' 에서 각각의 디렉토리 경로명을 분리하여 출력하세요.\n",
        "\n",
        "\n",
        "\n",
        "[실행결과] ['', 'usr', 'local', 'bin', 'python']"
      ],
      "metadata": {
        "id": "LqP8DKB28LuU"
      }
    },
    {
      "cell_type": "code",
      "source": [
        "s = '/usr/local/bin/python'\n",
        "print(s.split(','))"
      ],
      "metadata": {
        "colab": {
          "base_uri": "https://localhost:8080/"
        },
        "id": "PKIMpfAH8Po7",
        "outputId": "a0494cb1-f891-43d9-ac90-5aa75fc77f07"
      },
      "execution_count": 199,
      "outputs": [
        {
          "output_type": "stream",
          "name": "stdout",
          "text": [
            "['/usr/local/bin/python']\n"
          ]
        }
      ]
    },
    {
      "cell_type": "markdown",
      "source": [
        "문제3)\n",
        "\n",
        "'spam ham'을 'ham spam'으로 치환하세요.\n",
        "\n",
        "\n",
        "\n",
        "※문자열의 split( )과 join( )메서드 그리고 리스트의 reverse( )메서드를 사용"
      ],
      "metadata": {
        "id": "M5Jc0N_68NVV"
      }
    },
    {
      "cell_type": "code",
      "source": [
        "a = 'spam ham'\n",
        "\n",
        "print(a.reverse())"
      ],
      "metadata": {
        "colab": {
          "base_uri": "https://localhost:8080/",
          "height": 220
        },
        "id": "JW07ZEcq-Nmz",
        "outputId": "aa75c72a-1037-45f1-9d1a-62a296d85e25"
      },
      "execution_count": 204,
      "outputs": [
        {
          "output_type": "error",
          "ename": "AttributeError",
          "evalue": "ignored",
          "traceback": [
            "\u001b[0;31m---------------------------------------------------------------------------\u001b[0m",
            "\u001b[0;31mAttributeError\u001b[0m                            Traceback (most recent call last)",
            "\u001b[0;32m<ipython-input-204-d4c75323bbec>\u001b[0m in \u001b[0;36m<cell line: 3>\u001b[0;34m()\u001b[0m\n\u001b[1;32m      1\u001b[0m \u001b[0ma\u001b[0m \u001b[0;34m=\u001b[0m \u001b[0;34m'spam ham'\u001b[0m\u001b[0;34m\u001b[0m\u001b[0;34m\u001b[0m\u001b[0m\n\u001b[1;32m      2\u001b[0m \u001b[0;34m\u001b[0m\u001b[0m\n\u001b[0;32m----> 3\u001b[0;31m \u001b[0mprint\u001b[0m\u001b[0;34m(\u001b[0m\u001b[0ma\u001b[0m\u001b[0;34m.\u001b[0m\u001b[0mreverse\u001b[0m\u001b[0;34m(\u001b[0m\u001b[0;34m)\u001b[0m\u001b[0;34m)\u001b[0m\u001b[0;34m\u001b[0m\u001b[0;34m\u001b[0m\u001b[0m\n\u001b[0m",
            "\u001b[0;31mAttributeError\u001b[0m: 'str' object has no attribute 'reverse'"
          ]
        }
      ]
    },
    {
      "cell_type": "markdown",
      "source": [
        "문제4)\n",
        "\n",
        "문자열이 주어져 있을 때 'spam' 이 몇 번 나타나는지 구하시오.\n",
        "\n",
        "단, 대소문자 구분하지 않음\n",
        "\n",
        "\n",
        "\n",
        "s = 'spam Spam SpaM egg eGG Egg ham hAm'"
      ],
      "metadata": {
        "id": "SsaLhEnD8O9j"
      }
    },
    {
      "cell_type": "code",
      "source": [
        "s = 'spam Spam SpaM egg eGG Egg ham hAm'\n",
        "s.lower()\n",
        "print(s.count('ham'(s.lower())"
      ],
      "metadata": {
        "colab": {
          "base_uri": "https://localhost:8080/",
          "height": 147
        },
        "id": "tNH8hMld8sDr",
        "outputId": "4c8efc01-f7f6-4562-c680-471b298f200c"
      },
      "execution_count": 212,
      "outputs": [
        {
          "output_type": "error",
          "ename": "SyntaxError",
          "evalue": "ignored",
          "traceback": [
            "\u001b[0;36m  File \u001b[0;32m\"<ipython-input-212-def395b0f029>\"\u001b[0;36m, line \u001b[0;32m3\u001b[0m\n\u001b[0;31m    print(s.count('ham'(s.lower())\u001b[0m\n\u001b[0m                                  ^\u001b[0m\n\u001b[0;31mSyntaxError\u001b[0m\u001b[0;31m:\u001b[0m incomplete input\n"
          ]
        }
      ]
    }
  ]
}