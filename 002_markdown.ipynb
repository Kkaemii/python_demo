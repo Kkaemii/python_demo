{
  "nbformat": 4,
  "nbformat_minor": 0,
  "metadata": {
    "colab": {
      "provenance": [],
      "authorship_tag": "ABX9TyOf7zBiiLjL9nP4dDG4eAFR",
      "include_colab_link": true
    },
    "kernelspec": {
      "name": "python3",
      "display_name": "Python 3"
    },
    "language_info": {
      "name": "python"
    }
  },
  "cells": [
    {
      "cell_type": "markdown",
      "metadata": {
        "id": "view-in-github",
        "colab_type": "text"
      },
      "source": [
        "<a href=\"https://colab.research.google.com/github/Kkaemii/python_demo/blob/master/002_markdown.ipynb\" target=\"_parent\"><img src=\"https://colab.research.google.com/assets/colab-badge.svg\" alt=\"Open In Colab\"/></a>"
      ]
    },
    {
      "cell_type": "code",
      "source": [
        "!pwd"
      ],
      "metadata": {
        "colab": {
          "base_uri": "https://localhost:8080/"
        },
        "id": "HaKTmD8MK0UX",
        "outputId": "142ff937-37c0-4f97-dc78-1da745a2ad76"
      },
      "execution_count": 1,
      "outputs": [
        {
          "output_type": "stream",
          "name": "stdout",
          "text": [
            "/content\n"
          ]
        }
      ]
    },
    {
      "cell_type": "code",
      "source": [
        "# 구글 드라이버 연동\n",
        "from google.colab import drive\n",
        "drive.mount('/content/drive')"
      ],
      "metadata": {
        "colab": {
          "base_uri": "https://localhost:8080/"
        },
        "id": "1xsTkq5SnB9B",
        "outputId": "0028010e-969c-4c4f-bb1f-f95de549214d"
      },
      "execution_count": 4,
      "outputs": [
        {
          "output_type": "stream",
          "name": "stdout",
          "text": [
            "Drive already mounted at /content/drive; to attempt to forcibly remount, call drive.mount(\"/content/drive\", force_remount=True).\n"
          ]
        }
      ]
    },
    {
      "cell_type": "code",
      "source": [
        "%cd /content/drive/MyDrive/Ezen_AI_Chat_bot"
      ],
      "metadata": {
        "colab": {
          "base_uri": "https://localhost:8080/"
        },
        "id": "Um2-NK0GnPYh",
        "outputId": "4ebbe149-051c-4cc6-a080-9dde03ac6d17"
      },
      "execution_count": 5,
      "outputs": [
        {
          "output_type": "stream",
          "name": "stdout",
          "text": [
            "/content/drive/MyDrive/Ezen_AI_Chat_bot\n"
          ]
        }
      ]
    },
    {
      "cell_type": "markdown",
      "source": [
        "- 코랩은 웹브라우저에서 텍스트와 프로그램을 작성할 수 있는 온라인 텍스트 에디터 이다.\n",
        "- 클라우드 기반의 주피터 노트북 개발환경이다.\n",
        "- 코랩은 텍스트를 입력할 수 있는 텍스트 셀과 코드를 입력할 수 있는 코드셀를 제공한다.\n",
        "\n",
        "\n",
        "\n",
        " ### [실행 방법]\n",
        "\n",
        " - Ctrl + Enter : 실행하고 커서가 현재 위치에 그대로 있다.\n",
        "\n",
        " - Alt + Enter : 실행하고 다음 셀을 생성해 준다.\n",
        "\n",
        " - Shift + Enter : 실행하고 이동할 셀이 있으면 이동만하고 이동할 셀이 없으면 새로 셀을 생성한다.\n",
        "\n",
        "\n",
        "\n",
        " ### [ 단축키]\n",
        "\n",
        " - Ctrl + M A  : 코드 셀 위에 삽입\n",
        " - Ctrl + M B  : 코드 셀 아래 삽입\n",
        " - Ctrl + M D  : 셀 삭제\n",
        " - Ctrl + M M  : 마크다운(텍스트)셀로 변경\n",
        " - Ctrl + M Y  : 코드셀로 변경\n",
        " - Ctrl + M Z  : 실행 취소\n",
        " - Ctrl + M H  : 단축키 모음을 보여줌\n",
        "\n",
        "\n",
        "* MAC을 사용하는 경우 Ctrl 대신 Command사용\n",
        "\n",
        "\n",
        "### [ 입력 및 편집 이동]\n",
        "\n",
        " - 입력 -> 편집 이동 : ESC\n",
        "\n",
        " - 편집 -> 입력 이동 : Enter\n",
        "\n",
        "\n",
        "\n",
        "### [제목]\n",
        "\n",
        "제목은 #1 ~ #6가지 형태로 표현할 수 있다.\n",
        "\n",
        "\n",
        "\n",
        "# 제목1\n",
        "\n",
        "## 제목2\n",
        "\n",
        "### 제목3\n",
        "\n",
        "#### 제목4\n",
        "\n",
        "##### 제목5\n",
        "\n",
        "###### 제목6\n",
        "\n",
        "\n",
        "\n",
        "### 구분선\n",
        "\n",
        "-를 세개 이상 쓰면 가로선을 그어 구분영역을 표시할 수 있다.\n",
        "\n",
        "\n",
        "\n",
        "---\n",
        "\n",
        "\n",
        "\n",
        "### 줄바꿈\n",
        "\n",
        "맨 끝에 공백문자 2개 이상(스페이스)을 사용하면 줄바꿈한다.\n",
        "\n",
        "red  \n",
        "green  \n",
        "blue  \n",
        "\n",
        "\n",
        "\n",
        "\n",
        "\n",
        "### 목록\n",
        "순서가 있는 목록과 순서가 없는 목록을 지원한다.\n",
        "\n",
        "1. 리스트1\n",
        "2. 리스트2\n",
        "3. 리스트3\n",
        "\n",
        "\n",
        "\n",
        "- 리스트1\n",
        "- 리스트2\n",
        "- 리스트3\n",
        "  - 리스트3_1\n",
        "  - 리스트3_2"
      ],
      "metadata": {
        "id": "BiN5cdJtm_EQ"
      }
    },
    {
      "cell_type": "markdown",
      "source": [
        "###웹주소\n",
        "웹주소를 입력하면 자동으로 하이퍼 링크 생성\n",
        "http://www.python.org"
      ],
      "metadata": {
        "id": "7Jr2q_Rmn5Pf"
      }
    },
    {
      "cell_type": "markdown",
      "source": [
        "### 강조\n",
        "\n",
        "***굵게***테스트   \n",
        "___기울기___테스트"
      ],
      "metadata": {
        "id": "BaTgpFLuoFVX"
      }
    },
    {
      "cell_type": "markdown",
      "source": [
        "### 코드블록\n",
        "```python\n",
        "import python\n",
        "def x(self):\n",
        "  return self.x\n",
        "```\n",
        "\n",
        "```java\n",
        "\n",
        "public class Test{\n",
        "  public static void main(String[] args){\n",
        "    System.out.println(\"Hello Java\");\n",
        "  }\n",
        "}\n",
        "```"
      ],
      "metadata": {
        "id": "MezJfa-EoNme"
      }
    },
    {
      "cell_type": "markdown",
      "source": [
        "### 링크\n",
        "[파이썬](http://www.python.org)\n",
        "\n",
        " !를 붙이면 이미지만을 출력할 수 있다.  \n",
        "![python](https://www.python.org/static/img/python-logo.png)  \n",
        "\n",
        "\n",
        "이미지를 클릭했을때 python 사이트로 이동한다.  \n",
        "[![python](https://www.python.org/static/img/python-logo.png)](http://www.python.org)"
      ],
      "metadata": {
        "id": "R7Szp10Bow04"
      }
    }
  ]
}